{
 "cells": [
  {
   "cell_type": "code",
   "execution_count": 22,
   "metadata": {},
   "outputs": [],
   "source": [
    "# imports\n",
    "import re\n",
    "import os\n",
    "import pandas as pd\n",
    "import matplotlib.pyplot as plt\n",
    "import seaborn as sns\n",
    "from langdetect import detect"
   ]
  },
  {
   "cell_type": "code",
   "execution_count": 23,
   "metadata": {},
   "outputs": [],
   "source": [
    "# constants\n",
    "LOC_DATA = \"./data\"\n",
    "CHAT_FILENAME = \"/chat_{}.txt\"\n",
    "\n",
    "MEDIA = 'media_shared'\n",
    "DELETED = 'deleted_message'\n",
    "CELINE = 'Celine'\n",
    "SAM = 'Sam'\n",
    "\n",
    "EN = 'EN'\n",
    "FR = 'FR'\n",
    "OTHER = 'other'\n",
    "\n",
    "emoji_pat = r'(\\u00a9|\\u00ae|[\\u2000-\\u3300]|\\ud83c[\\ud000-\\udfff]|\\ud83d[\\ud000-\\udfff]|\\ud83e[\\ud000-\\udfff])'\n",
    "\n",
    "what_eng = r'(\\d+(?:/|-)\\d+(?:/|-)\\d+, \\d+:\\d+\\d+ [A-Za-z\\.]*) - (.*?): (.*)'\n",
    "date_form1 = re.compile('(\\d+/\\d+/\\d+, \\d+:\\d+\\d+ [A-Z]*)')\n",
    "date_form2 = re.compile('(\\d+\\-\\d+-\\d+, \\d+:\\d+\\d+ [a-z\\.]*)')\n",
    "\n",
    "what_fr = r'(\\d+.\\d+.\\d+ à \\d+:\\d+\\d+ [a-z\\.\\’ ]*) - (.*?): (.*)'\n",
    "what_pat = re.compile('(?:%s)|(?:%s)' % (what_eng, what_fr))\n",
    "what_pat = what_eng\n",
    "\n",
    "col_chat = ['timestamp',  'name', 'msg']\n",
    "df_col = col_chat + ['time', 'date', 'msg_len']\n",
    "\n",
    "bar_size = (16, 7)"
   ]
  },
  {
   "cell_type": "code",
   "execution_count": 24,
   "metadata": {},
   "outputs": [],
   "source": [
    "def to_df(msg):\n",
    "    h = pd.DataFrame(msg, columns=col_chat)\n",
    "    h['timestamp'] = h['timestamp'].str.upper()\n",
    "    h['timestamp'] = h['timestamp'].str.replace('.', '')\n",
    "    h['datetime'] = pd.to_datetime(h['timestamp'], format=\"%d/%m/%y, %I:%M %p\", errors='coerce')\n",
    "    h.datetime.update(pd.to_datetime(h[h.datetime.isnull()].timestamp, errors='coerce', yearfirst=False))\n",
    "    h['date'] = h['datetime'].dt.date\n",
    "    h['time'] = h['datetime'].dt.time\n",
    "    h['msg_len'] = h['msg'].str.replace('\\n', '').str.len()\n",
    "    h['name'] = h['name'].str.replace('Celine.*', CELINE)\n",
    "    h['name'] = h['name'].str.replace('Sam.*', SAM)\n",
    "    h['msg'] = h['msg'].replace('<Media omitted>', MEDIA)\n",
    "    h['msg'] = h['msg'].replace('This message was deleted', DELETED)\n",
    "    return h\n",
    "\n",
    "def read_whatsapp(file_name):\n",
    "    with open(filename, encoding='utf-8') as f:\n",
    "        messages = re.findall(what_pat, f.read())\n",
    "        f.close()\n",
    "        \n",
    "    return to_df(messages)"
   ]
  },
  {
   "cell_type": "code",
   "execution_count": 25,
   "metadata": {},
   "outputs": [
    {
     "name": "stdout",
     "output_type": "stream",
     "text": [
      "./data/chat_0.txt\n",
      "timestamp    7808\n",
      "name         7808\n",
      "msg          7808\n",
      "datetime     7808\n",
      "date         7808\n",
      "time         7808\n",
      "msg_len      7808\n",
      "dtype: int64\n",
      "./data/chat_1.txt\n",
      "timestamp    19781\n",
      "name         19781\n",
      "msg          19781\n",
      "datetime     19781\n",
      "date         19781\n",
      "time         19781\n",
      "msg_len      19781\n",
      "dtype: int64\n",
      "./data/chat_2.txt\n",
      "timestamp    5\n",
      "name         5\n",
      "msg          5\n",
      "datetime     5\n",
      "date         5\n",
      "time         5\n",
      "msg_len      5\n",
      "dtype: int64\n",
      "./data/chat_3.txt\n",
      "timestamp    39999\n",
      "name         39999\n",
      "msg          39999\n",
      "datetime     39999\n",
      "date         39999\n",
      "time         39999\n",
      "msg_len      39999\n",
      "dtype: int64\n"
     ]
    }
   ],
   "source": [
    "# read txt files\n",
    "df = pd.DataFrame(columns=col_chat)\n",
    "for i in range(5):\n",
    "    filename = LOC_DATA + CHAT_FILENAME.format(i)\n",
    "    print(filename)\n",
    "    tmp = read_whatsapp(filename)\n",
    "    print(tmp.count())\n",
    "    df = pd.concat([df, tmp], axis=0, ignore_index=True, sort=True)"
   ]
  },
  {
   "cell_type": "code",
   "execution_count": 26,
   "metadata": {},
   "outputs": [
    {
     "data": {
      "text/html": [
       "<div>\n",
       "<style scoped>\n",
       "    .dataframe tbody tr th:only-of-type {\n",
       "        vertical-align: middle;\n",
       "    }\n",
       "\n",
       "    .dataframe tbody tr th {\n",
       "        vertical-align: top;\n",
       "    }\n",
       "\n",
       "    .dataframe thead th {\n",
       "        text-align: right;\n",
       "    }\n",
       "</style>\n",
       "<table border=\"1\" class=\"dataframe\">\n",
       "  <thead>\n",
       "    <tr style=\"text-align: right;\">\n",
       "      <th></th>\n",
       "      <th>date</th>\n",
       "      <th>datetime</th>\n",
       "      <th>msg</th>\n",
       "      <th>msg_len</th>\n",
       "      <th>name</th>\n",
       "      <th>time</th>\n",
       "      <th>timestamp</th>\n",
       "    </tr>\n",
       "  </thead>\n",
       "  <tbody>\n",
       "  </tbody>\n",
       "</table>\n",
       "</div>"
      ],
      "text/plain": [
       "Empty DataFrame\n",
       "Columns: [date, datetime, msg, msg_len, name, time, timestamp]\n",
       "Index: []"
      ]
     },
     "execution_count": 26,
     "metadata": {},
     "output_type": "execute_result"
    }
   ],
   "source": [
    "df[df.datetime.isnull()].head()"
   ]
  },
  {
   "cell_type": "code",
   "execution_count": 27,
   "metadata": {},
   "outputs": [
    {
     "data": {
      "text/plain": [
       "date                 object\n",
       "datetime     datetime64[ns]\n",
       "msg                  object\n",
       "msg_len             float64\n",
       "name                 object\n",
       "time                 object\n",
       "timestamp            object\n",
       "dtype: object"
      ]
     },
     "execution_count": 27,
     "metadata": {},
     "output_type": "execute_result"
    }
   ],
   "source": [
    "df.dtypes"
   ]
  },
  {
   "cell_type": "markdown",
   "metadata": {},
   "source": [
    "# Analysis\n",
    "## Sam vs Celine"
   ]
  },
  {
   "cell_type": "code",
   "execution_count": 28,
   "metadata": {},
   "outputs": [
    {
     "data": {
      "text/html": [
       "<div>\n",
       "<style scoped>\n",
       "    .dataframe tbody tr th:only-of-type {\n",
       "        vertical-align: middle;\n",
       "    }\n",
       "\n",
       "    .dataframe tbody tr th {\n",
       "        vertical-align: top;\n",
       "    }\n",
       "\n",
       "    .dataframe thead tr th {\n",
       "        text-align: left;\n",
       "    }\n",
       "</style>\n",
       "<table border=\"1\" class=\"dataframe\">\n",
       "  <thead>\n",
       "    <tr>\n",
       "      <th></th>\n",
       "      <th>datetime</th>\n",
       "      <th>name</th>\n",
       "      <th>msg</th>\n",
       "      <th colspan=\"3\" halign=\"left\">msg_len</th>\n",
       "    </tr>\n",
       "    <tr>\n",
       "      <th></th>\n",
       "      <th></th>\n",
       "      <th></th>\n",
       "      <th>count</th>\n",
       "      <th>sum</th>\n",
       "      <th>mean</th>\n",
       "      <th>median</th>\n",
       "    </tr>\n",
       "  </thead>\n",
       "  <tbody>\n",
       "    <tr>\n",
       "      <th>0</th>\n",
       "      <td>2018-01</td>\n",
       "      <td>Celine</td>\n",
       "      <td>82</td>\n",
       "      <td>4254.0</td>\n",
       "      <td>51.878049</td>\n",
       "      <td>42.0</td>\n",
       "    </tr>\n",
       "    <tr>\n",
       "      <th>1</th>\n",
       "      <td>2018-01</td>\n",
       "      <td>Sam</td>\n",
       "      <td>97</td>\n",
       "      <td>5170.0</td>\n",
       "      <td>53.298969</td>\n",
       "      <td>43.0</td>\n",
       "    </tr>\n",
       "    <tr>\n",
       "      <th>2</th>\n",
       "      <td>2018-02</td>\n",
       "      <td>Celine</td>\n",
       "      <td>178</td>\n",
       "      <td>10298.0</td>\n",
       "      <td>57.853933</td>\n",
       "      <td>46.0</td>\n",
       "    </tr>\n",
       "    <tr>\n",
       "      <th>3</th>\n",
       "      <td>2018-02</td>\n",
       "      <td>Sam</td>\n",
       "      <td>228</td>\n",
       "      <td>12443.0</td>\n",
       "      <td>54.574561</td>\n",
       "      <td>44.0</td>\n",
       "    </tr>\n",
       "    <tr>\n",
       "      <th>4</th>\n",
       "      <td>2018-03</td>\n",
       "      <td>Celine</td>\n",
       "      <td>127</td>\n",
       "      <td>6961.0</td>\n",
       "      <td>54.811024</td>\n",
       "      <td>46.0</td>\n",
       "    </tr>\n",
       "  </tbody>\n",
       "</table>\n",
       "</div>"
      ],
      "text/plain": [
       "  datetime    name   msg  msg_len                  \n",
       "                   count      sum       mean median\n",
       "0  2018-01  Celine    82   4254.0  51.878049   42.0\n",
       "1  2018-01     Sam    97   5170.0  53.298969   43.0\n",
       "2  2018-02  Celine   178  10298.0  57.853933   46.0\n",
       "3  2018-02     Sam   228  12443.0  54.574561   44.0\n",
       "4  2018-03  Celine   127   6961.0  54.811024   46.0"
      ]
     },
     "execution_count": 28,
     "metadata": {},
     "output_type": "execute_result"
    }
   ],
   "source": [
    "def agg_by_month(df, groups, agg):\n",
    "    per = df.datetime.dt.to_period(\"M\")\n",
    "    groupby_list = [per]\n",
    "    for group in groups:\n",
    "        groupby_list.append(group)\n",
    "    new_df = df.groupby(groupby_list).agg(agg).reset_index()\n",
    "    \n",
    "    return new_df\n",
    "\n",
    "agg = {\n",
    "        'msg': ['count'],\n",
    "        'msg_len': ['sum', 'mean', 'median']\n",
    "    }\n",
    "df_agg = agg_by_month(df, ['name'], agg)\n",
    "df_agg.head()"
   ]
  },
  {
   "cell_type": "markdown",
   "metadata": {},
   "source": [
    "Sam and Celine met in mid September. The first message was sent by Sam:\n",
    "### \"Heyo\"\n",
    "to let Celine know where he would be going to eat lunch, which Celine replied with:\n",
    "### \"Coming! There's so many ppl, so I'll pay later.\"\n",
    "What she was going buy? Who knows?\n",
    "\n",
    "Celine and Sam were on the same continent between Sept 2018 - Jan 2019, and started dating mid Dec 2018. The decline in messages in Jan 2019 can be explained by the fact that they were actually hanging out together, thus no messages were necessary.\n",
    "\n",
    "On average, Sam sends more messages than Celine, and with more detail. On average 95.6 messages per day are exchanged between Celine and Sam and generally the most number of messages are excchanged on Friday."
   ]
  },
  {
   "cell_type": "code",
   "execution_count": 29,
   "metadata": {},
   "outputs": [],
   "source": [
    "colors = [\"#FF7352\", \"#BBDE66\"]\n",
    "sns.set_palette(sns.color_palette(colors))"
   ]
  },
  {
   "cell_type": "code",
   "execution_count": 30,
   "metadata": {},
   "outputs": [
    {
     "data": {
      "text/plain": [
       "[Text(0, 0, '2018-01'),\n",
       " Text(1, 0, '2018-02'),\n",
       " Text(2, 0, '2018-03'),\n",
       " Text(3, 0, '2018-04'),\n",
       " Text(4, 0, '2018-05'),\n",
       " Text(5, 0, '2018-06'),\n",
       " Text(6, 0, '2018-07'),\n",
       " Text(7, 0, '2018-08'),\n",
       " Text(8, 0, '2018-09'),\n",
       " Text(9, 0, '2018-10'),\n",
       " Text(10, 0, '2018-11'),\n",
       " Text(11, 0, '2018-12'),\n",
       " Text(12, 0, '2019-01'),\n",
       " Text(13, 0, '2019-02'),\n",
       " Text(14, 0, '2019-03'),\n",
       " Text(15, 0, '2019-04'),\n",
       " Text(16, 0, '2019-05'),\n",
       " Text(17, 0, '2019-06'),\n",
       " Text(18, 0, '2019-07'),\n",
       " Text(19, 0, '2019-08'),\n",
       " Text(20, 0, '2019-09'),\n",
       " Text(21, 0, '2019-10'),\n",
       " Text(22, 0, '2019-11'),\n",
       " Text(23, 0, '2019-12'),\n",
       " Text(24, 0, '2020-01'),\n",
       " Text(25, 0, '2020-02'),\n",
       " Text(26, 0, '2020-03'),\n",
       " Text(27, 0, '2020-04'),\n",
       " Text(28, 0, '2020-05'),\n",
       " Text(29, 0, '2020-06'),\n",
       " Text(30, 0, '2020-07'),\n",
       " Text(31, 0, '2020-08'),\n",
       " Text(32, 0, '2020-09'),\n",
       " Text(33, 0, '2020-10'),\n",
       " Text(34, 0, '2020-11'),\n",
       " Text(35, 0, '2020-12')]"
      ]
     },
     "execution_count": 30,
     "metadata": {},
     "output_type": "execute_result"
    },
    {
     "data": {
      "image/png": "[encoded data removed]",
      "text/plain": [
       "<Figure size 1152x504 with 1 Axes>"
      ]
     },
     "metadata": {
      "needs_background": "light"
     },
     "output_type": "display_data"
    }
   ],
   "source": [
    "plt.figure(figsize=bar_size)\n",
    "bplot = sns.barplot(y=('msg', 'count'), hue='name', x='datetime', data=df_agg)\n",
    "bplot.set_xticklabels(bplot.get_xticklabels(), rotation=45, horizontalalignment='right')"
   ]
  },
  {
   "cell_type": "code",
   "execution_count": 31,
   "metadata": {},
   "outputs": [
    {
     "data": {
      "text/plain": [
       "[Text(0, 0, '2018-01'),\n",
       " Text(1, 0, '2018-02'),\n",
       " Text(2, 0, '2018-03'),\n",
       " Text(3, 0, '2018-04'),\n",
       " Text(4, 0, '2018-05'),\n",
       " Text(5, 0, '2018-06'),\n",
       " Text(6, 0, '2018-07'),\n",
       " Text(7, 0, '2018-08'),\n",
       " Text(8, 0, '2018-09'),\n",
       " Text(9, 0, '2018-10'),\n",
       " Text(10, 0, '2018-11'),\n",
       " Text(11, 0, '2018-12'),\n",
       " Text(12, 0, '2019-01'),\n",
       " Text(13, 0, '2019-02'),\n",
       " Text(14, 0, '2019-03'),\n",
       " Text(15, 0, '2019-04'),\n",
       " Text(16, 0, '2019-05'),\n",
       " Text(17, 0, '2019-06'),\n",
       " Text(18, 0, '2019-07'),\n",
       " Text(19, 0, '2019-08'),\n",
       " Text(20, 0, '2019-09'),\n",
       " Text(21, 0, '2019-10'),\n",
       " Text(22, 0, '2019-11'),\n",
       " Text(23, 0, '2019-12'),\n",
       " Text(24, 0, '2020-01'),\n",
       " Text(25, 0, '2020-02'),\n",
       " Text(26, 0, '2020-03'),\n",
       " Text(27, 0, '2020-04'),\n",
       " Text(28, 0, '2020-05'),\n",
       " Text(29, 0, '2020-06'),\n",
       " Text(30, 0, '2020-07'),\n",
       " Text(31, 0, '2020-08'),\n",
       " Text(32, 0, '2020-09'),\n",
       " Text(33, 0, '2020-10'),\n",
       " Text(34, 0, '2020-11'),\n",
       " Text(35, 0, '2020-12')]"
      ]
     },
     "execution_count": 31,
     "metadata": {},
     "output_type": "execute_result"
    },
    {
     "data": {
      "image/png": "[encoded data removed]",
      "text/plain": [
       "<Figure size 1152x504 with 1 Axes>"
      ]
     },
     "metadata": {
      "needs_background": "light"
     },
     "output_type": "display_data"
    }
   ],
   "source": [
    "plt.figure(figsize=bar_size)\n",
    "bplot = sns.barplot(y=('msg_len', 'mean'), hue='name', x='datetime', data=df_agg)\n",
    "bplot.set_xticklabels(bplot.get_xticklabels(), rotation=45, horizontalalignment='right')"
   ]
  },
  {
   "cell_type": "code",
   "execution_count": 32,
   "metadata": {},
   "outputs": [
    {
     "name": "stdout",
     "output_type": "stream",
     "text": [
      "98.12641511013156\n",
      "      Friday\n",
      "Name: 0, dtype: object\n"
     ]
    }
   ],
   "source": [
    "def agg_by_day(df):\n",
    "    per = df.datetime.dt.to_period(\"D\")\n",
    "    new_df = df.groupby(\n",
    "        [\n",
    "            df['datetime'].dt.date,\n",
    "            df['weekday']\n",
    "        ]).agg({\n",
    "        'msg': ['count']\n",
    "    }).reset_index()\n",
    "    \n",
    "    return new_df\n",
    "\n",
    "def agg_by_weekday(df):\n",
    "    return df.groupby(\n",
    "        [\n",
    "            df['weekday'],\n",
    "        ]\n",
    "    ).agg({\n",
    "        ('msg', 'count'): ['mean']\n",
    "    }).reset_index()\n",
    "\n",
    "dotw = ['Sunday', 'Monday', 'Tuesday', 'Wednesday', 'Thursday', 'Friday', 'Saturday']\n",
    "df_agg = df\n",
    "df_agg['weekday'] = df['datetime'].dt.day_name()\n",
    "df_agg = agg_by_day(df_agg)\n",
    "df_agg2 = agg_by_weekday(df_agg)\n",
    "print(df_agg2[('msg', 'count', 'mean')].mean())\n",
    "print(df_agg2.loc[df_agg2[('msg', 'count', 'mean')].idxmax(), 'weekday'])"
   ]
  },
  {
   "cell_type": "code",
   "execution_count": 33,
   "metadata": {},
   "outputs": [
    {
     "data": {
      "image/png": "[encoded data removed]",
      "text/plain": [
       "<Figure size 1152x504 with 1 Axes>"
      ]
     },
     "metadata": {
      "needs_background": "light"
     },
     "output_type": "display_data"
    }
   ],
   "source": [
    "plt.figure(figsize=(16,7))\n",
    "bplot = sns.barplot(x=('msg', 'count', 'mean'), y='weekday', data=df_agg2, order=dotw)"
   ]
  },
  {
   "cell_type": "markdown",
   "metadata": {},
   "source": [
    "## Language\n",
    "Celine and Sam like to talk in French or English. Other categorized messages are due to errors in classifying the language, media type message or the text was deleted."
   ]
  },
  {
   "cell_type": "code",
   "execution_count": 34,
   "metadata": {},
   "outputs": [
    {
     "data": {
      "text/html": [
       "<div>\n",
       "<style scoped>\n",
       "    .dataframe tbody tr th:only-of-type {\n",
       "        vertical-align: middle;\n",
       "    }\n",
       "\n",
       "    .dataframe tbody tr th {\n",
       "        vertical-align: top;\n",
       "    }\n",
       "\n",
       "    .dataframe thead th {\n",
       "        text-align: right;\n",
       "    }\n",
       "</style>\n",
       "<table border=\"1\" class=\"dataframe\">\n",
       "  <thead>\n",
       "    <tr style=\"text-align: right;\">\n",
       "      <th></th>\n",
       "      <th>date</th>\n",
       "      <th>datetime</th>\n",
       "      <th>msg</th>\n",
       "      <th>msg_len</th>\n",
       "      <th>name</th>\n",
       "      <th>time</th>\n",
       "      <th>timestamp</th>\n",
       "      <th>weekday</th>\n",
       "      <th>lang</th>\n",
       "    </tr>\n",
       "  </thead>\n",
       "  <tbody>\n",
       "    <tr>\n",
       "      <th>0</th>\n",
       "      <td>2018-09-26</td>\n",
       "      <td>2018-09-26 12:17:00</td>\n",
       "      <td>Heyo</td>\n",
       "      <td>4.0</td>\n",
       "      <td>Celine</td>\n",
       "      <td>12:17:00</td>\n",
       "      <td>9/26/18, 12:17 PM</td>\n",
       "      <td>Wednesday</td>\n",
       "      <td>EN</td>\n",
       "    </tr>\n",
       "    <tr>\n",
       "      <th>1</th>\n",
       "      <td>2018-09-26</td>\n",
       "      <td>2018-09-26 12:18:00</td>\n",
       "      <td>l'Ornithorynque is where I'm going to eat</td>\n",
       "      <td>41.0</td>\n",
       "      <td>Sam</td>\n",
       "      <td>12:18:00</td>\n",
       "      <td>9/26/18, 12:18 PM</td>\n",
       "      <td>Wednesday</td>\n",
       "      <td>EN</td>\n",
       "    </tr>\n",
       "    <tr>\n",
       "      <th>2</th>\n",
       "      <td>2018-09-26</td>\n",
       "      <td>2018-09-26 12:27:00</td>\n",
       "      <td>Coming! There's so many ppl, so I'll pay later</td>\n",
       "      <td>46.0</td>\n",
       "      <td>Celine</td>\n",
       "      <td>12:27:00</td>\n",
       "      <td>9/26/18, 12:27 PM</td>\n",
       "      <td>Wednesday</td>\n",
       "      <td>EN</td>\n",
       "    </tr>\n",
       "    <tr>\n",
       "      <th>3</th>\n",
       "      <td>2018-09-26</td>\n",
       "      <td>2018-09-26 21:40:00</td>\n",
       "      <td>http://aumc.epfl.ch/index.php/les-salles-de-mu...</td>\n",
       "      <td>64.0</td>\n",
       "      <td>Sam</td>\n",
       "      <td>21:40:00</td>\n",
       "      <td>9/26/18, 9:40 PM</td>\n",
       "      <td>Wednesday</td>\n",
       "      <td>other</td>\n",
       "    </tr>\n",
       "    <tr>\n",
       "      <th>4</th>\n",
       "      <td>2018-09-26</td>\n",
       "      <td>2018-09-26 21:40:00</td>\n",
       "      <td>This is the music association I was talking about</td>\n",
       "      <td>49.0</td>\n",
       "      <td>Sam</td>\n",
       "      <td>21:40:00</td>\n",
       "      <td>9/26/18, 9:40 PM</td>\n",
       "      <td>Wednesday</td>\n",
       "      <td>EN</td>\n",
       "    </tr>\n",
       "  </tbody>\n",
       "</table>\n",
       "</div>"
      ],
      "text/plain": [
       "         date            datetime  \\\n",
       "0  2018-09-26 2018-09-26 12:17:00   \n",
       "1  2018-09-26 2018-09-26 12:18:00   \n",
       "2  2018-09-26 2018-09-26 12:27:00   \n",
       "3  2018-09-26 2018-09-26 21:40:00   \n",
       "4  2018-09-26 2018-09-26 21:40:00   \n",
       "\n",
       "                                                 msg  msg_len    name  \\\n",
       "0                                               Heyo      4.0  Celine   \n",
       "1          l'Ornithorynque is where I'm going to eat     41.0     Sam   \n",
       "2     Coming! There's so many ppl, so I'll pay later     46.0  Celine   \n",
       "3  http://aumc.epfl.ch/index.php/les-salles-de-mu...     64.0     Sam   \n",
       "4  This is the music association I was talking about     49.0     Sam   \n",
       "\n",
       "       time          timestamp    weekday   lang  \n",
       "0  12:17:00  9/26/18, 12:17 PM  Wednesday     EN  \n",
       "1  12:18:00  9/26/18, 12:18 PM  Wednesday     EN  \n",
       "2  12:27:00  9/26/18, 12:27 PM  Wednesday     EN  \n",
       "3  21:40:00   9/26/18, 9:40 PM  Wednesday  other  \n",
       "4  21:40:00   9/26/18, 9:40 PM  Wednesday     EN  "
      ]
     },
     "execution_count": 34,
     "metadata": {},
     "output_type": "execute_result"
    }
   ],
   "source": [
    "def fr_or_eng(m):\n",
    "    if m == MEDIA or m == DELETED:\n",
    "        return OTHER\n",
    "    try:\n",
    "        lang = detect(m)\n",
    "        if lang == 'en':\n",
    "            return EN\n",
    "        else:\n",
    "            return FR\n",
    "    except:\n",
    "        return OTHER\n",
    "\n",
    "pickle_file = 'df_lang.pkl'\n",
    "if os.path.isfile(pickle_file):\n",
    "    df_lang = pd.read_pickle(pickle_file)\n",
    "else:\n",
    "    df_lang = df\n",
    "    df_lang['lang'] = df_lang.msg.apply(fr_or_eng)\n",
    "    df_lang.to_pickle(pickle_file)\n",
    "df_lang.head()"
   ]
  },
  {
   "cell_type": "code",
   "execution_count": 35,
   "metadata": {},
   "outputs": [
    {
     "data": {
      "text/plain": [
       "[Text(0, 0, '2018-01'),\n",
       " Text(1, 0, '2018-02'),\n",
       " Text(2, 0, '2018-03'),\n",
       " Text(3, 0, '2018-04'),\n",
       " Text(4, 0, '2018-05'),\n",
       " Text(5, 0, '2018-06'),\n",
       " Text(6, 0, '2018-07'),\n",
       " Text(7, 0, '2018-08'),\n",
       " Text(8, 0, '2018-09'),\n",
       " Text(9, 0, '2018-10'),\n",
       " Text(10, 0, '2018-11'),\n",
       " Text(11, 0, '2018-12'),\n",
       " Text(12, 0, '2019-01'),\n",
       " Text(13, 0, '2019-02'),\n",
       " Text(14, 0, '2019-03'),\n",
       " Text(15, 0, '2019-04'),\n",
       " Text(16, 0, '2019-05'),\n",
       " Text(17, 0, '2019-06'),\n",
       " Text(18, 0, '2019-07'),\n",
       " Text(19, 0, '2019-08'),\n",
       " Text(20, 0, '2019-09'),\n",
       " Text(21, 0, '2019-10'),\n",
       " Text(22, 0, '2019-11'),\n",
       " Text(23, 0, '2019-12'),\n",
       " Text(24, 0, '2020-01'),\n",
       " Text(25, 0, '2020-02'),\n",
       " Text(26, 0, '2020-03'),\n",
       " Text(27, 0, '2020-04'),\n",
       " Text(28, 0, '2020-05'),\n",
       " Text(29, 0, '2020-06'),\n",
       " Text(30, 0, '2020-07'),\n",
       " Text(31, 0, '2020-08'),\n",
       " Text(32, 0, '2020-09'),\n",
       " Text(33, 0, '2020-10'),\n",
       " Text(34, 0, '2020-11'),\n",
       " Text(35, 0, '2020-12')]"
      ]
     },
     "execution_count": 35,
     "metadata": {},
     "output_type": "execute_result"
    },
    {
     "data": {
      "image/png": "[encoded data removed]",
      "text/plain": [
       "<Figure size 1152x504 with 1 Axes>"
      ]
     },
     "metadata": {
      "needs_background": "light"
     },
     "output_type": "display_data"
    },
    {
     "data": {
      "image/png": "[encoded data removed]",
      "text/plain": [
       "<Figure size 1152x504 with 1 Axes>"
      ]
     },
     "metadata": {
      "needs_background": "light"
     },
     "output_type": "display_data"
    }
   ],
   "source": [
    "df_lang_agg = agg_by_month(df_lang, ['name', 'lang'], {'lang': ['count']})\n",
    "celine_agg = df_lang_agg[df_lang_agg['name'] == CELINE]\n",
    "sam_agg = df_lang_agg[df_lang_agg['name'] == SAM]\n",
    "\n",
    "plt.figure(figsize=(16,7))\n",
    "bplot = sns.barplot(y=('lang', 'count'), hue=('lang', ''), x='datetime', data=celine_agg)\n",
    "bplot.set_xticklabels(bplot.get_xticklabels(), rotation=45, horizontalalignment='right')\n",
    "\n",
    "plt.figure(figsize=(16,7))\n",
    "bplot = sns.barplot(y=('lang', 'count'), hue=('lang', ''), x='datetime', data=sam_agg)\n",
    "bplot.set_xticklabels(bplot.get_xticklabels(), rotation=45, horizontalalignment='right')"
   ]
  },
  {
   "cell_type": "code",
   "execution_count": null,
   "metadata": {},
   "outputs": [],
   "source": []
  }
 ],
 "metadata": {
  "kernelspec": {
   "display_name": "Python [conda env:mypy3]",
   "language": "python",
   "name": "conda-env-mypy3-py"
  },
  "language_info": {
   "codemirror_mode": {
    "name": "ipython",
    "version": 3
   },
   "file_extension": ".py",
   "mimetype": "text/x-python",
   "name": "python",
   "nbconvert_exporter": "python",
   "pygments_lexer": "ipython3",
   "version": "3.6.12"
  }
 },
 "nbformat": 4,
 "nbformat_minor": 2
}
