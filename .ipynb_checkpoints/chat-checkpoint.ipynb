{
 "cells": [
  {
   "cell_type": "code",
   "execution_count": 18,
   "metadata": {},
   "outputs": [],
   "source": [
    "# imports\n",
    "import re\n",
    "import pandas as pd"
   ]
  },
  {
   "cell_type": "code",
   "execution_count": 87,
   "metadata": {},
   "outputs": [
    {
     "name": "stdout",
     "output_type": "stream",
     "text": [
      "re.compile('Celine.*(\\\\u00a9|\\\\u00ae|[\\\\u2000-\\\\u3300]|\\\\ud83c[\\\\ud000-\\\\udfff]|\\\\ud83d[\\\\ud000-\\\\udfff]|\\\\ud83e[\\\\ud000-\\\\udfff])')\n"
     ]
    }
   ],
   "source": [
    "# constants\n",
    "LOC_DATA = \"./data\"\n",
    "CHAT_FILENAME = \"/chat_{}.txt\"\n",
    "\n",
    "MEDIA = 'media_shared'\n",
    "DELETED = 'deleted_message'\n",
    "CELINE = 'Celine'\n",
    "SAM = 'Sam'\n",
    "\n",
    "emoji_pat = r'(\\u00a9|\\u00ae|[\\u2000-\\u3300]|\\ud83c[\\ud000-\\udfff]|\\ud83d[\\ud000-\\udfff]|\\ud83e[\\ud000-\\udfff])'\n",
    "\n",
    "what_pat = r'(\\d+/\\d+/\\d+, \\d+:\\d+\\d+ [A-Z]*) - (.*?): (.*)'\n",
    "# celine_pat = re.compile('Celine.*'+emoji_pat)\n",
    "# sam_pat = re.compile('Sam.*'+emoji_pat)\n",
    "\n",
    "col_chat = ['date', 'name', 'msg']"
   ]
  },
  {
   "cell_type": "code",
   "execution_count": 95,
   "metadata": {},
   "outputs": [],
   "source": [
    "def to_df(msg):\n",
    "    h = pd.DataFrame(msg, columns=col_chat)\n",
    "    h['date'] = pd.to_datetime(h['date'], format=\"%m/%d/%y, %I:%M %p\")\n",
    "    h['name'] = h['name'].str.replace('Celine.*', CELINE)\n",
    "    h['name'] = h['name'].str.replace('Sam.*', SAM)\n",
    "    h['msg'] = h['msg'].replace('<Media omitted>', MEDIA)\n",
    "    h['msg'] = h['msg'].replace('This message was deleted', DELETED)\n",
    "    return h\n",
    "\n",
    "def read_whatsapp(file_name):\n",
    "    with open(filename, encoding='utf-8') as f:\n",
    "        messages = re.findall(what_pat, f.read())\n",
    "        f.close()\n",
    "        \n",
    "    return to_df(messages)"
   ]
  },
  {
   "cell_type": "code",
   "execution_count": 98,
   "metadata": {},
   "outputs": [
    {
     "data": {
      "text/html": [
       "<div>\n",
       "<style scoped>\n",
       "    .dataframe tbody tr th:only-of-type {\n",
       "        vertical-align: middle;\n",
       "    }\n",
       "\n",
       "    .dataframe tbody tr th {\n",
       "        vertical-align: top;\n",
       "    }\n",
       "\n",
       "    .dataframe thead th {\n",
       "        text-align: right;\n",
       "    }\n",
       "</style>\n",
       "<table border=\"1\" class=\"dataframe\">\n",
       "  <thead>\n",
       "    <tr style=\"text-align: right;\">\n",
       "      <th></th>\n",
       "      <th>date</th>\n",
       "      <th>name</th>\n",
       "      <th>msg</th>\n",
       "    </tr>\n",
       "  </thead>\n",
       "  <tbody>\n",
       "    <tr>\n",
       "      <th>0</th>\n",
       "      <td>2018-09-26 12:17:00</td>\n",
       "      <td>Celine</td>\n",
       "      <td>Heyo</td>\n",
       "    </tr>\n",
       "    <tr>\n",
       "      <th>1</th>\n",
       "      <td>2018-09-26 12:18:00</td>\n",
       "      <td>Sam</td>\n",
       "      <td>l'Ornithorynque is where I'm going to eat</td>\n",
       "    </tr>\n",
       "    <tr>\n",
       "      <th>2</th>\n",
       "      <td>2018-09-26 12:27:00</td>\n",
       "      <td>Celine</td>\n",
       "      <td>Coming! There's so many ppl, so I'll pay later</td>\n",
       "    </tr>\n",
       "    <tr>\n",
       "      <th>3</th>\n",
       "      <td>2018-09-26 21:40:00</td>\n",
       "      <td>Sam</td>\n",
       "      <td>http://aumc.epfl.ch/index.php/les-salles-de-mu...</td>\n",
       "    </tr>\n",
       "    <tr>\n",
       "      <th>4</th>\n",
       "      <td>2018-09-26 21:40:00</td>\n",
       "      <td>Sam</td>\n",
       "      <td>This is the music association I was talking about</td>\n",
       "    </tr>\n",
       "  </tbody>\n",
       "</table>\n",
       "</div>"
      ],
      "text/plain": [
       "                 date    name  \\\n",
       "0 2018-09-26 12:17:00  Celine   \n",
       "1 2018-09-26 12:18:00     Sam   \n",
       "2 2018-09-26 12:27:00  Celine   \n",
       "3 2018-09-26 21:40:00     Sam   \n",
       "4 2018-09-26 21:40:00     Sam   \n",
       "\n",
       "                                                 msg  \n",
       "0                                               Heyo  \n",
       "1          l'Ornithorynque is where I'm going to eat  \n",
       "2     Coming! There's so many ppl, so I'll pay later  \n",
       "3  http://aumc.epfl.ch/index.php/les-salles-de-mu...  \n",
       "4  This is the music association I was talking about  "
      ]
     },
     "execution_count": 98,
     "metadata": {},
     "output_type": "execute_result"
    }
   ],
   "source": [
    "# read txt files\n",
    "df = pd.DataFrame(columns=col_chat)\n",
    "for i in range(3):\n",
    "    filename = LOC_DATA + CHAT_FILENAME.format(i)\n",
    "    tmp = read_whatsapp(filename)\n",
    "    df = pd.concat([df, tmp], axis=0, ignore_index=True)\n",
    "    \n",
    "df.head()"
   ]
  },
  {
   "cell_type": "code",
   "execution_count": 100,
   "metadata": {},
   "outputs": [
    {
     "data": {
      "text/html": [
       "<div>\n",
       "<style scoped>\n",
       "    .dataframe tbody tr th:only-of-type {\n",
       "        vertical-align: middle;\n",
       "    }\n",
       "\n",
       "    .dataframe tbody tr th {\n",
       "        vertical-align: top;\n",
       "    }\n",
       "\n",
       "    .dataframe thead th {\n",
       "        text-align: right;\n",
       "    }\n",
       "</style>\n",
       "<table border=\"1\" class=\"dataframe\">\n",
       "  <thead>\n",
       "    <tr style=\"text-align: right;\">\n",
       "      <th></th>\n",
       "      <th>date</th>\n",
       "      <th>name</th>\n",
       "      <th>msg</th>\n",
       "    </tr>\n",
       "  </thead>\n",
       "  <tbody>\n",
       "    <tr>\n",
       "      <th>count</th>\n",
       "      <td>27594</td>\n",
       "      <td>27594</td>\n",
       "      <td>27594</td>\n",
       "    </tr>\n",
       "    <tr>\n",
       "      <th>unique</th>\n",
       "      <td>17107</td>\n",
       "      <td>2</td>\n",
       "      <td>23841</td>\n",
       "    </tr>\n",
       "    <tr>\n",
       "      <th>top</th>\n",
       "      <td>2019-08-02 22:50:00</td>\n",
       "      <td>Sam</td>\n",
       "      <td>media_shared</td>\n",
       "    </tr>\n",
       "    <tr>\n",
       "      <th>freq</th>\n",
       "      <td>122</td>\n",
       "      <td>14852</td>\n",
       "      <td>2367</td>\n",
       "    </tr>\n",
       "    <tr>\n",
       "      <th>first</th>\n",
       "      <td>2018-09-26 12:17:00</td>\n",
       "      <td>NaN</td>\n",
       "      <td>NaN</td>\n",
       "    </tr>\n",
       "    <tr>\n",
       "      <th>last</th>\n",
       "      <td>2019-08-19 00:39:00</td>\n",
       "      <td>NaN</td>\n",
       "      <td>NaN</td>\n",
       "    </tr>\n",
       "  </tbody>\n",
       "</table>\n",
       "</div>"
      ],
      "text/plain": [
       "                       date   name           msg\n",
       "count                 27594  27594         27594\n",
       "unique                17107      2         23841\n",
       "top     2019-08-02 22:50:00    Sam  media_shared\n",
       "freq                    122  14852          2367\n",
       "first   2018-09-26 12:17:00    NaN           NaN\n",
       "last    2019-08-19 00:39:00    NaN           NaN"
      ]
     },
     "execution_count": 100,
     "metadata": {},
     "output_type": "execute_result"
    }
   ],
   "source": [
    "df.describe()"
   ]
  },
  {
   "cell_type": "code",
   "execution_count": null,
   "metadata": {},
   "outputs": [],
   "source": []
  }
 ],
 "metadata": {
  "kernelspec": {
   "display_name": "Python [mypy3]",
   "language": "python",
   "name": "mypy3"
  },
  "language_info": {
   "codemirror_mode": {
    "name": "ipython",
    "version": 3
   },
   "file_extension": ".py",
   "mimetype": "text/x-python",
   "name": "python",
   "nbconvert_exporter": "python",
   "pygments_lexer": "ipython3",
   "version": "3.6.5"
  }
 },
 "nbformat": 4,
 "nbformat_minor": 2
}
