{
 "cells": [
  {
   "cell_type": "code",
   "execution_count": 76,
   "metadata": {},
   "outputs": [],
   "source": [
    "# imports\n",
    "import re\n",
    "import pandas as pd\n",
    "import matplotlib.pyplot as plt\n",
    "import seaborn as sns"
   ]
  },
  {
   "cell_type": "code",
   "execution_count": 140,
   "metadata": {},
   "outputs": [
    {
     "name": "stdout",
     "output_type": "stream",
     "text": [
      "(\\d+(?:/|-)\\d+(?:/|-)\\d+, \\d+:\\d+\\d+ [A-Za-z\\.]*) - (.*?): (.*)\n"
     ]
    }
   ],
   "source": [
    "# constants\n",
    "LOC_DATA = \"./data\"\n",
    "CHAT_FILENAME = \"/chat_{}.txt\"\n",
    "\n",
    "MEDIA = 'media_shared'\n",
    "DELETED = 'deleted_message'\n",
    "CELINE = 'Celine'\n",
    "SAM = 'Sam'\n",
    "\n",
    "emoji_pat = r'(\\u00a9|\\u00ae|[\\u2000-\\u3300]|\\ud83c[\\ud000-\\udfff]|\\ud83d[\\ud000-\\udfff]|\\ud83e[\\ud000-\\udfff])'\n",
    "\n",
    "what_eng = r'(\\d+(?:/|-)\\d+(?:/|-)\\d+, \\d+:\\d+\\d+ [A-Za-z\\.]*) - (.*?): (.*)'\n",
    "date_form1 = re.compile('(\\d+/\\d+/\\d+, \\d+:\\d+\\d+ [A-Z]*)')\n",
    "date_form2 = re.compile('(\\d+\\-\\d+-\\d+, \\d+:\\d+\\d+ [a-z\\.]*)')\n",
    "\n",
    "what_fr = r'(\\d+.\\d+.\\d+ à \\d+:\\d+\\d+ [a-z\\.\\’ ]*) - (.*?): (.*)'\n",
    "what_pat = re.compile('(?:%s)|(?:%s)' % (what_eng, what_fr))\n",
    "what_pat = what_eng\n",
    "\n",
    "col_chat = ['timestamp',  'name', 'msg']\n",
    "df_col = col_chat + ['time', 'date', 'msg_len']\n",
    "\n",
    "print(what_pat)"
   ]
  },
  {
   "cell_type": "code",
   "execution_count": 181,
   "metadata": {},
   "outputs": [],
   "source": [
    "def to_df(msg):\n",
    "    h = pd.DataFrame(msg, columns=col_chat)\n",
    "    h['timestamp'] = h['timestamp'].str.upper()\n",
    "    h['timestamp'] = h['timestamp'].str.replace('.', '')\n",
    "    h['datetime'] = pd.to_datetime(h['timestamp'], format=\"%m/%d/%y, %I:%M %p\", errors='coerce')\n",
    "#     h['datetime'] = pd.to_datetime(h['timestamp'], errors='coerce')\n",
    "    h.datetime.update(pd.to_datetime(h[h.datetime.isnull()].timestamp, errors='coerce', yearfirst=True))\n",
    "    h['date'] = h['datetime'].dt.date\n",
    "    h['time'] = h['datetime'].dt.time\n",
    "    h['msg_len'] = h['msg'].str.replace('\\n', '').str.len()\n",
    "    h['name'] = h['name'].str.replace('Celine.*', CELINE)\n",
    "    h['name'] = h['name'].str.replace('Sam.*', SAM)\n",
    "    h['msg'] = h['msg'].replace('<Media omitted>', MEDIA)\n",
    "    h['msg'] = h['msg'].replace('This message was deleted', DELETED)\n",
    "    return h\n",
    "\n",
    "def read_whatsapp(file_name):\n",
    "    with open(filename, encoding='utf-8') as f:\n",
    "        messages = re.findall(what_pat, f.read())\n",
    "        f.close()\n",
    "        \n",
    "    return to_df(messages)"
   ]
  },
  {
   "cell_type": "code",
   "execution_count": 182,
   "metadata": {},
   "outputs": [
    {
     "name": "stdout",
     "output_type": "stream",
     "text": [
      "./data/chat_0.txt\n",
      "timestamp    7808\n",
      "name         7808\n",
      "msg          7808\n",
      "datetime     7808\n",
      "date         7808\n",
      "time         7808\n",
      "msg_len      7808\n",
      "dtype: int64\n",
      "./data/chat_1.txt\n",
      "timestamp    19781\n",
      "name         19781\n",
      "msg          19781\n",
      "datetime     19781\n",
      "date         19781\n",
      "time         19781\n",
      "msg_len      19781\n",
      "dtype: int64\n",
      "./data/chat_2.txt\n",
      "timestamp    5\n",
      "name         5\n",
      "msg          5\n",
      "datetime     5\n",
      "date         5\n",
      "time         5\n",
      "msg_len      5\n",
      "dtype: int64\n",
      "./data/chat_3.txt\n",
      "timestamp    35000\n",
      "name         35000\n",
      "msg          35000\n",
      "datetime     35000\n",
      "date         35000\n",
      "time         35000\n",
      "msg_len      35000\n",
      "dtype: int64\n"
     ]
    },
    {
     "data": {
      "text/html": [
       "<div>\n",
       "<style scoped>\n",
       "    .dataframe tbody tr th:only-of-type {\n",
       "        vertical-align: middle;\n",
       "    }\n",
       "\n",
       "    .dataframe tbody tr th {\n",
       "        vertical-align: top;\n",
       "    }\n",
       "\n",
       "    .dataframe thead th {\n",
       "        text-align: right;\n",
       "    }\n",
       "</style>\n",
       "<table border=\"1\" class=\"dataframe\">\n",
       "  <thead>\n",
       "    <tr style=\"text-align: right;\">\n",
       "      <th></th>\n",
       "      <th>date</th>\n",
       "      <th>datetime</th>\n",
       "      <th>msg</th>\n",
       "      <th>msg_len</th>\n",
       "      <th>name</th>\n",
       "      <th>time</th>\n",
       "      <th>timestamp</th>\n",
       "    </tr>\n",
       "  </thead>\n",
       "  <tbody>\n",
       "    <tr>\n",
       "      <th>62589</th>\n",
       "      <td>2020-09-25</td>\n",
       "      <td>2020-09-25 15:34:00</td>\n",
       "      <td>À demain</td>\n",
       "      <td>8.0</td>\n",
       "      <td>Sam</td>\n",
       "      <td>15:34:00</td>\n",
       "      <td>2020-09-25, 3:34 PM</td>\n",
       "    </tr>\n",
       "    <tr>\n",
       "      <th>62590</th>\n",
       "      <td>2020-09-25</td>\n",
       "      <td>2020-09-25 15:34:00</td>\n",
       "      <td>media_shared</td>\n",
       "      <td>15.0</td>\n",
       "      <td>Sam</td>\n",
       "      <td>15:34:00</td>\n",
       "      <td>2020-09-25, 3:34 PM</td>\n",
       "    </tr>\n",
       "    <tr>\n",
       "      <th>62591</th>\n",
       "      <td>2020-09-25</td>\n",
       "      <td>2020-09-25 15:34:00</td>\n",
       "      <td>Il n'est pas encore dans ma maison! XP</td>\n",
       "      <td>38.0</td>\n",
       "      <td>Celine</td>\n",
       "      <td>15:34:00</td>\n",
       "      <td>2020-09-25, 3:34 PM</td>\n",
       "    </tr>\n",
       "    <tr>\n",
       "      <th>62592</th>\n",
       "      <td>2020-09-25</td>\n",
       "      <td>2020-09-25 15:35:00</td>\n",
       "      <td>Aah</td>\n",
       "      <td>3.0</td>\n",
       "      <td>Sam</td>\n",
       "      <td>15:35:00</td>\n",
       "      <td>2020-09-25, 3:35 PM</td>\n",
       "    </tr>\n",
       "    <tr>\n",
       "      <th>62593</th>\n",
       "      <td>2020-09-25</td>\n",
       "      <td>2020-09-25 15:35:00</td>\n",
       "      <td>My bad 😂</td>\n",
       "      <td>8.0</td>\n",
       "      <td>Sam</td>\n",
       "      <td>15:35:00</td>\n",
       "      <td>2020-09-25, 3:35 PM</td>\n",
       "    </tr>\n",
       "  </tbody>\n",
       "</table>\n",
       "</div>"
      ],
      "text/plain": [
       "             date            datetime                                     msg  \\\n",
       "62589  2020-09-25 2020-09-25 15:34:00                                À demain   \n",
       "62590  2020-09-25 2020-09-25 15:34:00                            media_shared   \n",
       "62591  2020-09-25 2020-09-25 15:34:00  Il n'est pas encore dans ma maison! XP   \n",
       "62592  2020-09-25 2020-09-25 15:35:00                                     Aah   \n",
       "62593  2020-09-25 2020-09-25 15:35:00                                My bad 😂   \n",
       "\n",
       "       msg_len    name      time            timestamp  \n",
       "62589      8.0     Sam  15:34:00  2020-09-25, 3:34 PM  \n",
       "62590     15.0     Sam  15:34:00  2020-09-25, 3:34 PM  \n",
       "62591     38.0  Celine  15:34:00  2020-09-25, 3:34 PM  \n",
       "62592      3.0     Sam  15:35:00  2020-09-25, 3:35 PM  \n",
       "62593      8.0     Sam  15:35:00  2020-09-25, 3:35 PM  "
      ]
     },
     "execution_count": 182,
     "metadata": {},
     "output_type": "execute_result"
    }
   ],
   "source": [
    "# read txt files\n",
    "df = pd.DataFrame(columns=col_chat)\n",
    "for i in range(4):\n",
    "    filename = LOC_DATA + CHAT_FILENAME.format(i)\n",
    "    print(filename)\n",
    "    tmp = read_whatsapp(filename)\n",
    "    print(tmp.count())\n",
    "    df = pd.concat([df, tmp], axis=0, ignore_index=True, sort=True)\n",
    "    \n",
    "df.tail()"
   ]
  },
  {
   "cell_type": "code",
   "execution_count": 183,
   "metadata": {},
   "outputs": [
    {
     "data": {
      "text/html": [
       "<div>\n",
       "<style scoped>\n",
       "    .dataframe tbody tr th:only-of-type {\n",
       "        vertical-align: middle;\n",
       "    }\n",
       "\n",
       "    .dataframe tbody tr th {\n",
       "        vertical-align: top;\n",
       "    }\n",
       "\n",
       "    .dataframe thead th {\n",
       "        text-align: right;\n",
       "    }\n",
       "</style>\n",
       "<table border=\"1\" class=\"dataframe\">\n",
       "  <thead>\n",
       "    <tr style=\"text-align: right;\">\n",
       "      <th></th>\n",
       "      <th>date</th>\n",
       "      <th>datetime</th>\n",
       "      <th>msg</th>\n",
       "      <th>msg_len</th>\n",
       "      <th>name</th>\n",
       "      <th>time</th>\n",
       "      <th>timestamp</th>\n",
       "    </tr>\n",
       "  </thead>\n",
       "  <tbody>\n",
       "  </tbody>\n",
       "</table>\n",
       "</div>"
      ],
      "text/plain": [
       "Empty DataFrame\n",
       "Columns: [date, datetime, msg, msg_len, name, time, timestamp]\n",
       "Index: []"
      ]
     },
     "execution_count": 183,
     "metadata": {},
     "output_type": "execute_result"
    }
   ],
   "source": [
    "df[df.datetime.isnull()].head()"
   ]
  },
  {
   "cell_type": "code",
   "execution_count": 184,
   "metadata": {},
   "outputs": [
    {
     "data": {
      "text/html": [
       "<div>\n",
       "<style scoped>\n",
       "    .dataframe tbody tr th:only-of-type {\n",
       "        vertical-align: middle;\n",
       "    }\n",
       "\n",
       "    .dataframe tbody tr th {\n",
       "        vertical-align: top;\n",
       "    }\n",
       "\n",
       "    .dataframe thead th {\n",
       "        text-align: right;\n",
       "    }\n",
       "</style>\n",
       "<table border=\"1\" class=\"dataframe\">\n",
       "  <thead>\n",
       "    <tr style=\"text-align: right;\">\n",
       "      <th></th>\n",
       "      <th>date</th>\n",
       "      <th>datetime</th>\n",
       "      <th>msg</th>\n",
       "      <th>msg_len</th>\n",
       "      <th>name</th>\n",
       "      <th>time</th>\n",
       "      <th>timestamp</th>\n",
       "    </tr>\n",
       "  </thead>\n",
       "  <tbody>\n",
       "    <tr>\n",
       "      <th>0</th>\n",
       "      <td>2018-09-26</td>\n",
       "      <td>2018-09-26 12:17:00</td>\n",
       "      <td>Heyo</td>\n",
       "      <td>4.0</td>\n",
       "      <td>Celine</td>\n",
       "      <td>12:17:00</td>\n",
       "      <td>9/26/18, 12:17 PM</td>\n",
       "    </tr>\n",
       "    <tr>\n",
       "      <th>1</th>\n",
       "      <td>2018-09-26</td>\n",
       "      <td>2018-09-26 12:18:00</td>\n",
       "      <td>l'Ornithorynque is where I'm going to eat</td>\n",
       "      <td>41.0</td>\n",
       "      <td>Sam</td>\n",
       "      <td>12:18:00</td>\n",
       "      <td>9/26/18, 12:18 PM</td>\n",
       "    </tr>\n",
       "    <tr>\n",
       "      <th>2</th>\n",
       "      <td>2018-09-26</td>\n",
       "      <td>2018-09-26 12:27:00</td>\n",
       "      <td>Coming! There's so many ppl, so I'll pay later</td>\n",
       "      <td>46.0</td>\n",
       "      <td>Celine</td>\n",
       "      <td>12:27:00</td>\n",
       "      <td>9/26/18, 12:27 PM</td>\n",
       "    </tr>\n",
       "    <tr>\n",
       "      <th>3</th>\n",
       "      <td>2018-09-26</td>\n",
       "      <td>2018-09-26 21:40:00</td>\n",
       "      <td>http://aumc.epfl.ch/index.php/les-salles-de-mu...</td>\n",
       "      <td>64.0</td>\n",
       "      <td>Sam</td>\n",
       "      <td>21:40:00</td>\n",
       "      <td>9/26/18, 9:40 PM</td>\n",
       "    </tr>\n",
       "    <tr>\n",
       "      <th>4</th>\n",
       "      <td>2018-09-26</td>\n",
       "      <td>2018-09-26 21:40:00</td>\n",
       "      <td>This is the music association I was talking about</td>\n",
       "      <td>49.0</td>\n",
       "      <td>Sam</td>\n",
       "      <td>21:40:00</td>\n",
       "      <td>9/26/18, 9:40 PM</td>\n",
       "    </tr>\n",
       "  </tbody>\n",
       "</table>\n",
       "</div>"
      ],
      "text/plain": [
       "         date            datetime  \\\n",
       "0  2018-09-26 2018-09-26 12:17:00   \n",
       "1  2018-09-26 2018-09-26 12:18:00   \n",
       "2  2018-09-26 2018-09-26 12:27:00   \n",
       "3  2018-09-26 2018-09-26 21:40:00   \n",
       "4  2018-09-26 2018-09-26 21:40:00   \n",
       "\n",
       "                                                 msg  msg_len    name  \\\n",
       "0                                               Heyo      4.0  Celine   \n",
       "1          l'Ornithorynque is where I'm going to eat     41.0     Sam   \n",
       "2     Coming! There's so many ppl, so I'll pay later     46.0  Celine   \n",
       "3  http://aumc.epfl.ch/index.php/les-salles-de-mu...     64.0     Sam   \n",
       "4  This is the music association I was talking about     49.0     Sam   \n",
       "\n",
       "       time          timestamp  \n",
       "0  12:17:00  9/26/18, 12:17 PM  \n",
       "1  12:18:00  9/26/18, 12:18 PM  \n",
       "2  12:27:00  9/26/18, 12:27 PM  \n",
       "3  21:40:00   9/26/18, 9:40 PM  \n",
       "4  21:40:00   9/26/18, 9:40 PM  "
      ]
     },
     "execution_count": 184,
     "metadata": {},
     "output_type": "execute_result"
    }
   ],
   "source": [
    "df[df.datetime.notnull()].head()"
   ]
  },
  {
   "cell_type": "markdown",
   "metadata": {},
   "source": [
    "# Analysis\n",
    "## Sam vs Celine"
   ]
  },
  {
   "cell_type": "code",
   "execution_count": 186,
   "metadata": {},
   "outputs": [
    {
     "data": {
      "text/html": [
       "<div>\n",
       "<style scoped>\n",
       "    .dataframe tbody tr th:only-of-type {\n",
       "        vertical-align: middle;\n",
       "    }\n",
       "\n",
       "    .dataframe tbody tr th {\n",
       "        vertical-align: top;\n",
       "    }\n",
       "\n",
       "    .dataframe thead tr th {\n",
       "        text-align: left;\n",
       "    }\n",
       "</style>\n",
       "<table border=\"1\" class=\"dataframe\">\n",
       "  <thead>\n",
       "    <tr>\n",
       "      <th></th>\n",
       "      <th>datetime</th>\n",
       "      <th>name</th>\n",
       "      <th>msg</th>\n",
       "      <th colspan=\"3\" halign=\"left\">msg_len</th>\n",
       "    </tr>\n",
       "    <tr>\n",
       "      <th></th>\n",
       "      <th></th>\n",
       "      <th></th>\n",
       "      <th>count</th>\n",
       "      <th>sum</th>\n",
       "      <th>mean</th>\n",
       "      <th>median</th>\n",
       "    </tr>\n",
       "  </thead>\n",
       "  <tbody>\n",
       "    <tr>\n",
       "      <th>0</th>\n",
       "      <td>2018-09</td>\n",
       "      <td>Celine</td>\n",
       "      <td>8</td>\n",
       "      <td>311.0</td>\n",
       "      <td>38.875000</td>\n",
       "      <td>32.0</td>\n",
       "    </tr>\n",
       "    <tr>\n",
       "      <th>1</th>\n",
       "      <td>2018-09</td>\n",
       "      <td>Sam</td>\n",
       "      <td>12</td>\n",
       "      <td>725.0</td>\n",
       "      <td>60.416667</td>\n",
       "      <td>54.0</td>\n",
       "    </tr>\n",
       "    <tr>\n",
       "      <th>2</th>\n",
       "      <td>2018-10</td>\n",
       "      <td>Celine</td>\n",
       "      <td>324</td>\n",
       "      <td>16440.0</td>\n",
       "      <td>50.740741</td>\n",
       "      <td>42.0</td>\n",
       "    </tr>\n",
       "    <tr>\n",
       "      <th>3</th>\n",
       "      <td>2018-10</td>\n",
       "      <td>Sam</td>\n",
       "      <td>396</td>\n",
       "      <td>20220.0</td>\n",
       "      <td>51.060606</td>\n",
       "      <td>42.0</td>\n",
       "    </tr>\n",
       "    <tr>\n",
       "      <th>4</th>\n",
       "      <td>2018-11</td>\n",
       "      <td>Celine</td>\n",
       "      <td>1082</td>\n",
       "      <td>58668.0</td>\n",
       "      <td>54.221811</td>\n",
       "      <td>46.0</td>\n",
       "    </tr>\n",
       "  </tbody>\n",
       "</table>\n",
       "</div>"
      ],
      "text/plain": [
       "  datetime    name   msg  msg_len                  \n",
       "                   count      sum       mean median\n",
       "0  2018-09  Celine     8    311.0  38.875000   32.0\n",
       "1  2018-09     Sam    12    725.0  60.416667   54.0\n",
       "2  2018-10  Celine   324  16440.0  50.740741   42.0\n",
       "3  2018-10     Sam   396  20220.0  51.060606   42.0\n",
       "4  2018-11  Celine  1082  58668.0  54.221811   46.0"
      ]
     },
     "execution_count": 186,
     "metadata": {},
     "output_type": "execute_result"
    }
   ],
   "source": [
    "def agg_by_month(df):\n",
    "    per = df.datetime.dt.to_period(\"M\")\n",
    "    new_df = df.groupby(\n",
    "        [\n",
    "            per,\n",
    "            df['name']\n",
    "        ]).agg({\n",
    "        'msg': ['count'],\n",
    "        'msg_len': ['sum', 'mean', 'median']\n",
    "    }).reset_index()\n",
    "    \n",
    "    return new_df\n",
    "\n",
    "# sam_agg = agg_by_month(df_sam)\n",
    "# sam_agg.columns = [\"_\".join(x) for x in sam_agg.columns.ravel()]\n",
    "df_agg = agg_by_month(df)\n",
    "df_agg.head()"
   ]
  },
  {
   "cell_type": "markdown",
   "metadata": {},
   "source": [
    "Sam and Celine met in mid September. The first message was sent by Sam:\n",
    "### \"Heyo\"\n",
    "to let Celine know where he would be going to eat lunch, which Celine replied with:\n",
    "### \"Coming! There's so many ppl, so I'll pay later.\"\n",
    "What she was going buy? Who knows?\n",
    "\n",
    "Celine and Sam were on the same continent between Sept 2018 - Jan 2019, and started dating mid Dec 2018. The decline in messages in Jan 2019 can be explained by the fact that they were actually hanging out together, thus no messages were necessary.\n",
    "\n",
    "On average, Sam sends more messages than Celine, and with more detail."
   ]
  },
  {
   "cell_type": "code",
   "execution_count": 202,
   "metadata": {},
   "outputs": [
    {
     "data": {
      "text/plain": [
       "[Text(0,0,'2018-09'),\n",
       " Text(0,0,'2018-10'),\n",
       " Text(0,0,'2018-11'),\n",
       " Text(0,0,'2018-12'),\n",
       " Text(0,0,'2019-01'),\n",
       " Text(0,0,'2019-02'),\n",
       " Text(0,0,'2019-03'),\n",
       " Text(0,0,'2019-04'),\n",
       " Text(0,0,'2019-05'),\n",
       " Text(0,0,'2019-06'),\n",
       " Text(0,0,'2019-07'),\n",
       " Text(0,0,'2019-08'),\n",
       " Text(0,0,'2019-09'),\n",
       " Text(0,0,'2019-10'),\n",
       " Text(0,0,'2019-11'),\n",
       " Text(0,0,'2019-12'),\n",
       " Text(0,0,'2020-01'),\n",
       " Text(0,0,'2020-02'),\n",
       " Text(0,0,'2020-03'),\n",
       " Text(0,0,'2020-04'),\n",
       " Text(0,0,'2020-05'),\n",
       " Text(0,0,'2020-06'),\n",
       " Text(0,0,'2020-07'),\n",
       " Text(0,0,'2020-08'),\n",
       " Text(0,0,'2020-09')]"
      ]
     },
     "execution_count": 202,
     "metadata": {},
     "output_type": "execute_result"
    },
    {
     "data": {
      "image/png": "[encoded data removed]",
      "text/plain": [
       "<Figure size 1152x504 with 1 Axes>"
      ]
     },
     "metadata": {},
     "output_type": "display_data"
    }
   ],
   "source": [
    "plt.figure(figsize=(16, 7))\n",
    "colors = [\"#FF0B04\", \"#4374B3\"]\n",
    "sns.set_palette(sns.color_palette(colors))\n",
    "\n",
    "bplot = sns.barplot(y=('msg', 'count'), hue='name', x='datetime', data=df_agg)\n",
    "bplot.set_xticklabels(bplot.get_xticklabels(), rotation=45, horizontalalignment='right')"
   ]
  },
  {
   "cell_type": "code",
   "execution_count": 203,
   "metadata": {},
   "outputs": [
    {
     "data": {
      "text/plain": [
       "[Text(0,0,'2018-09'),\n",
       " Text(0,0,'2018-10'),\n",
       " Text(0,0,'2018-11'),\n",
       " Text(0,0,'2018-12'),\n",
       " Text(0,0,'2019-01'),\n",
       " Text(0,0,'2019-02'),\n",
       " Text(0,0,'2019-03'),\n",
       " Text(0,0,'2019-04'),\n",
       " Text(0,0,'2019-05'),\n",
       " Text(0,0,'2019-06'),\n",
       " Text(0,0,'2019-07'),\n",
       " Text(0,0,'2019-08'),\n",
       " Text(0,0,'2019-09'),\n",
       " Text(0,0,'2019-10'),\n",
       " Text(0,0,'2019-11'),\n",
       " Text(0,0,'2019-12'),\n",
       " Text(0,0,'2020-01'),\n",
       " Text(0,0,'2020-02'),\n",
       " Text(0,0,'2020-03'),\n",
       " Text(0,0,'2020-04'),\n",
       " Text(0,0,'2020-05'),\n",
       " Text(0,0,'2020-06'),\n",
       " Text(0,0,'2020-07'),\n",
       " Text(0,0,'2020-08'),\n",
       " Text(0,0,'2020-09')]"
      ]
     },
     "execution_count": 203,
     "metadata": {},
     "output_type": "execute_result"
    },
    {
     "data": {
      "image/png": "[encoded data removed]",
      "text/plain": [
       "<Figure size 1152x504 with 1 Axes>"
      ]
     },
     "metadata": {},
     "output_type": "display_data"
    }
   ],
   "source": [
    "plt.figure(figsize=(16,7))\n",
    "bplot = sns.barplot(y=('msg_len', 'mean'), hue='name', x='datetime', data=df_agg)\n",
    "bplot.set_xticklabels(bplot.get_xticklabels(), rotation=45, horizontalalignment='right')"
   ]
  },
  {
   "cell_type": "code",
   "execution_count": 204,
   "metadata": {},
   "outputs": [],
   "source": [
    "df_sam = df[df['name'] == SAM]\n",
    "df_celine = df[df['name'] == CELINE]"
   ]
  },
  {
   "cell_type": "code",
   "execution_count": 187,
   "metadata": {},
   "outputs": [
    {
     "data": {
      "text/plain": [
       "datetime             object\n",
       "name                 object\n",
       "msg       count       int64\n",
       "msg_len   sum       float64\n",
       "          mean      float64\n",
       "          median    float64\n",
       "dtype: object"
      ]
     },
     "execution_count": 187,
     "metadata": {},
     "output_type": "execute_result"
    }
   ],
   "source": [
    "df_agg.dtypes"
   ]
  }
 ],
 "metadata": {
  "kernelspec": {
   "display_name": "Python [mypy3]",
   "language": "python",
   "name": "mypy3"
  },
  "language_info": {
   "codemirror_mode": {
    "name": "ipython",
    "version": 3
   },
   "file_extension": ".py",
   "mimetype": "text/x-python",
   "name": "python",
   "nbconvert_exporter": "python",
   "pygments_lexer": "ipython3",
   "version": "3.6.5"
  }
 },
 "nbformat": 4,
 "nbformat_minor": 2
}
